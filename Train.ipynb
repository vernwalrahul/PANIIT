{
 "cells": [
  {
   "cell_type": "code",
   "execution_count": 37,
   "metadata": {},
   "outputs": [],
   "source": [
    "import sys\n",
    "try:\n",
    "    sys.path.remove('/opt/ros/kinetic/lib/python2.7/dist-packages')\n",
    "except:\n",
    "    pass\n",
    "import cv2\n",
    "import tensorflow as tf\n",
    "import pandas as pd\n",
    "import numpy as np\n",
    "N_CLASS = 6"
   ]
  },
  {
   "cell_type": "code",
   "execution_count": 45,
   "metadata": {},
   "outputs": [],
   "source": [
    "ld = \"training/simplified_training/\"\n",
    "X_train = []\n",
    "for i in range(1, 5001):\n",
    "    im = cv2.imread(ld+str(i)+\".png\", 0)\n",
    "    X_train.append(im.reshape(1,200,200))\n",
    "X_train = np.array(X_train)\n",
    "Y_df = pd.read_csv(\"training/solution.csv\")\n",
    "Y_df = Y_df.values[:,1]\n",
    "Y_train = np.zeros((len(X_train), N_CLASS))\n",
    "Y_train[np.arange(len(X_train)), Y_df-1] = 1"
   ]
  },
  {
   "cell_type": "code",
   "execution_count": 46,
   "metadata": {},
   "outputs": [],
   "source": [
    "import matplotlib.pyplot as plt\n",
    "%matplotlib inline\n",
    "def show_image(x):\n",
    "    plt.imshow(x)"
   ]
  },
  {
   "cell_type": "code",
   "execution_count": 47,
   "metadata": {},
   "outputs": [
    {
     "data": {
      "image/png": "[encoded data removed]",
      "text/plain": [
       "<matplotlib.figure.Figure at 0x7fbea557ec88>"
      ]
     },
     "metadata": {},
     "output_type": "display_data"
    }
   ],
   "source": [
    "show_image(X_train[0][0])"
   ]
  },
  {
   "cell_type": "code",
   "execution_count": 48,
   "metadata": {},
   "outputs": [
    {
     "data": {
      "text/plain": [
       "(1000, 1, 200, 200)"
      ]
     },
     "execution_count": 48,
     "metadata": {},
     "output_type": "execute_result"
    }
   ],
   "source": [
    "nsamples = 1000\n",
    "X_train = X_train[:nsamples]\n",
    "Y_train = Y_train[:nsamples]\n",
    "X_train.shape"
   ]
  },
  {
   "cell_type": "code",
   "execution_count": 49,
   "metadata": {},
   "outputs": [],
   "source": [
    "import keras\n",
    "from keras.models import Sequential\n",
    "from keras.layers import Dense, Dropout, Flatten\n",
    "from keras.layers import Conv2D, MaxPooling2D\n",
    "from keras import backend as K"
   ]
  },
  {
   "cell_type": "code",
   "execution_count": null,
   "metadata": {
    "scrolled": true
   },
   "outputs": [
    {
     "name": "stdout",
     "output_type": "stream",
     "text": [
      "input_shape =  (1, 200, 200)\n",
      "Epoch 1/12\n",
      "1000/1000 [==============================] - 324s 324ms/step - loss: 1.7925 - acc: 0.1510\n",
      "Epoch 2/12\n",
      "1000/1000 [==============================] - 350s 350ms/step - loss: 1.7912 - acc: 0.1760\n",
      "Epoch 3/12\n",
      " 128/1000 [==>...........................] - ETA: 4:48 - loss: 1.7889 - acc: 0.1719"
     ]
    }
   ],
   "source": [
    "X_train = X_train.astype('float32')\n",
    "X_train /= 255\n",
    "batch_size = 64\n",
    "num_classes = N_CLASS\n",
    "epochs = 12\n",
    "input_shape = X_train[0].shape\n",
    "print(\"input_shape = \", input_shape)\n",
    "model = Sequential()\n",
    "model.add(Conv2D(32, kernel_size=(5, 5),\n",
    "                 activation='relu',\n",
    "                 input_shape=input_shape, data_format='channels_first'))\n",
    "model.add(Conv2D(64, (3, 3), activation='relu'))\n",
    "model.add(MaxPooling2D(pool_size=(2, 2)))\n",
    "model.add(Dropout(0.25))\n",
    "model.add(Flatten())\n",
    "model.add(Dense(128, activation='relu'))\n",
    "model.add(Dropout(0.5))\n",
    "model.add(Dense(N_CLASS, activation='softmax'))\n",
    "\n",
    "model.compile(loss=keras.losses.categorical_crossentropy,\n",
    "              optimizer=keras.optimizers.Adadelta(),\n",
    "              metrics=['accuracy'])\n",
    "\n",
    "model.fit(X_train, Y_train,\n",
    "          batch_size=batch_size,\n",
    "          epochs=epochs,\n",
    "          verbose=1)"
   ]
  },
  {
   "cell_type": "code",
   "execution_count": 61,
   "metadata": {},
   "outputs": [
    {
     "name": "stdout",
     "output_type": "stream",
     "text": [
      "[[0.17342898 0.14796221 0.16918519 0.17798232 0.1716866  0.15975465]\n",
      " [0.17342898 0.14796221 0.16918519 0.17798232 0.1716866  0.15975465]\n",
      " [0.17342898 0.14796221 0.16918519 0.17798232 0.1716866  0.15975465]\n",
      " [0.17342898 0.14796221 0.16918519 0.17798232 0.1716866  0.15975465]\n",
      " [0.17342898 0.14796221 0.16918519 0.17798232 0.1716866  0.15975465]\n",
      " [0.17342898 0.14796221 0.16918519 0.17798232 0.1716866  0.15975465]\n",
      " [0.17342898 0.14796221 0.16918519 0.17798232 0.1716866  0.15975465]\n",
      " [0.17342898 0.14796221 0.16918519 0.17798232 0.1716866  0.15975465]\n",
      " [0.17342898 0.14796221 0.16918519 0.17798232 0.1716866  0.15975465]\n",
      " [0.17342898 0.14796221 0.16918519 0.17798232 0.1716866  0.15975465]]\n",
      "[[0. 0. 0. 0. 1. 0.]\n",
      " [0. 0. 0. 1. 0. 0.]\n",
      " [0. 0. 0. 0. 0. 1.]\n",
      " [0. 1. 0. 0. 0. 0.]\n",
      " [0. 1. 0. 0. 0. 0.]\n",
      " [0. 0. 0. 0. 1. 0.]\n",
      " [0. 0. 0. 0. 0. 1.]\n",
      " [0. 0. 1. 0. 0. 0.]\n",
      " [0. 0. 0. 1. 0. 0.]\n",
      " [0. 0. 0. 0. 1. 0.]]\n"
     ]
    }
   ],
   "source": [
    "model.save(\"my_model.h5\")\n",
    "print(model.predict(X_train[:10]))\n",
    "print(Y_train[:10])"
   ]
  },
  {
   "cell_type": "code",
   "execution_count": null,
   "metadata": {},
   "outputs": [],
   "source": []
  }
 ],
 "metadata": {
  "kernelspec": {
   "display_name": "Python 3",
   "language": "python",
   "name": "python3"
  },
  "language_info": {
   "codemirror_mode": {
    "name": "ipython",
    "version": 3
   },
   "file_extension": ".py",
   "mimetype": "text/x-python",
   "name": "python",
   "nbconvert_exporter": "python",
   "pygments_lexer": "ipython3",
   "version": "3.5.2"
  }
 },
 "nbformat": 4,
 "nbformat_minor": 2
}
